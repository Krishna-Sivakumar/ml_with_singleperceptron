{
 "cells": [
  {
   "cell_type": "code",
   "execution_count": 67,
   "metadata": {},
   "outputs": [],
   "source": [
    "from matplotlib import pyplot as plt\n",
    "import numpy as np\n",
    "import pandas as pd\n",
    "import random as r"
   ]
  },
  {
   "cell_type": "code",
   "execution_count": 68,
   "metadata": {},
   "outputs": [],
   "source": [
    "def ReLU(x):\n",
    "    if x>0:\n",
    "        return x\n",
    "    else:\n",
    "        return 0\n",
    "def dReLU(x):\n",
    "    if x>0:\n",
    "        return 1\n",
    "    else:\n",
    "        return 0"
   ]
  },
  {
   "cell_type": "code",
   "execution_count": 69,
   "metadata": {},
   "outputs": [],
   "source": [
    "class perceptron:\n",
    "    def __init__(self):\n",
    "        self.b = r.random()\n",
    "        self.weights = list()\n",
    "        self.inputs = list()\n",
    "        self.no_of_connections = 1\n",
    "    def set_connections(self,x):\n",
    "        if x < 200 and x>0:\n",
    "            self.no_of_connections = x\n",
    "            for i in range(x):\n",
    "                self.weights.append(r.random())\n",
    "    def load_input(self,input_arr):\n",
    "        if len(input_arr) == self.no_of_connections:\n",
    "            self.inputs.clear()\n",
    "            for x in input_arr:\n",
    "                self.inputs.append(x)\n",
    "    def z(self): #Returns Weighted Sum\n",
    "        z=0\n",
    "        for i in range(self.no_of_connections):\n",
    "            z+=self.weights[i]*self.inputs[i]\n",
    "        z+=self.b\n",
    "        return z\n",
    "    def prediction(self): #ReLU's Weighted Sum\n",
    "        z=self.z()\n",
    "        p=ReLU(z)\n",
    "        return p\n",
    "    def backpropogation(self,target,learning_rate):\n",
    "        L=learning_rate\n",
    "        de_dwi = []\n",
    "        e = (self.prediction() - target)**2\n",
    "        de_dp = 2*(self.prediction() - target)\n",
    "        dp_dz = dReLU(self.z())\n",
    "        dz_dwi = self.inputs\n",
    "        dz_db = 1\n",
    "        de_db = de_dp*dp_dz*dz_db \n",
    "        \n",
    "        for i in range(len(dz_dwi)):\n",
    "            de_dwi.append(de_dp*dp_dz*dz_dwi[i])\n",
    "            self.weights[i]-=L*de_dwi[i]\n",
    "        self.b-=L*de_db\n",
    "        \n",
    "        return e"
   ]
  },
  {
   "cell_type": "code",
   "execution_count": 70,
   "metadata": {},
   "outputs": [],
   "source": [
    "data = pd.read_csv(\"StudentsPerformance.csv\")\n",
    "m_score=data.mathscore\n",
    "g=pd.Series.tolist(data.gender)\n",
    "l=pd.Series.tolist(data.lunch)\n",
    "t=pd.Series.tolist(data.testpreparationcourse)\n",
    "m=pd.Series.tolist(data.mathscore)\n",
    "race=pd.Series.tolist(data.race)\n",
    "\n",
    "for x in range(len(race)):\n",
    "    if race[x]==\"group A\":\n",
    "        race[x]=1\n",
    "    elif race[x]==\"group B\":\n",
    "        race[x] = 2\n",
    "    elif race[x]==\"group C\":\n",
    "        race[x] = 3\n",
    "    elif race[x]==\"group D\":\n",
    "        race[x] = 4\n",
    "    else:\n",
    "        race[x] = 5\n",
    "\n",
    "for x in range(len(t)):\n",
    "    if t[x]==\"none\":\n",
    "        t[x]=0\n",
    "    else:\n",
    "        t[x] = 1\n",
    "\n",
    "for x in range(len(l)):\n",
    "    if l[x]==\"standard\":\n",
    "        l[x]=1\n",
    "    else:\n",
    "        l[x] = 2\n",
    "\n",
    "for x in range(len(g)):\n",
    "    if g[x]==\"female\":\n",
    "        g[x]=1\n",
    "    else:\n",
    "        g[x] = 2"
   ]
  },
  {
   "cell_type": "code",
   "execution_count": 73,
   "metadata": {},
   "outputs": [
    {
     "name": "stdout",
     "output_type": "stream",
     "text": [
      "358.82194187381\n"
     ]
    },
    {
     "data": {
      "image/png": "[encoded data removed]",
      "text/plain": [
       "<Figure size 432x288 with 1 Axes>"
      ]
     },
     "metadata": {
      "needs_background": "light"
     },
     "output_type": "display_data"
    }
   ],
   "source": [
    "learning_rate=0.005\n",
    "costs = []\n",
    "avg_cost=0\n",
    "neuron = perceptron()\n",
    "neuron.set_connections(4)\n",
    "\n",
    "#Data: g,l,t,race,m\n",
    "#Training Loop\n",
    "for i in range(500):\n",
    "    inputs = []\n",
    "    inputs.append(g[i])\n",
    "    inputs.append(l[i])\n",
    "    inputs.append(t[i])\n",
    "    inputs.append(race[i])\n",
    "    neuron.load_input(inputs)\n",
    "    target = m[i]\n",
    "    cost = neuron.backpropogation(target,learning_rate)\n",
    "    costs.append(cost)\n",
    "    avg_cost+=cost\n",
    "\n",
    "avg_cost/=len(costs)\n",
    "plt.ylabel(\"Cost\")\n",
    "plt.xlabel(\"Time\")\n",
    "plt.axhline(avg_cost,color='r')\n",
    "plt.plot(costs)\n",
    "print(avg_cost)"
   ]
  },
  {
   "cell_type": "code",
   "execution_count": 104,
   "metadata": {},
   "outputs": [
    {
     "name": "stdout",
     "output_type": "stream",
     "text": [
      "Average Error:  22.30895543603779 %\n",
      "Percentage of Predictions with 90% accuracy and above:  34.8 %\n"
     ]
    },
    {
     "data": {
      "text/plain": [
       "<matplotlib.lines.Line2D at 0xaf57278>"
      ]
     },
     "execution_count": 104,
     "metadata": {},
     "output_type": "execute_result"
    },
    {
     "data": {
      "image/png": "[encoded data removed]",
      "text/plain": [
       "<Figure size 432x288 with 1 Axes>"
      ]
     },
     "metadata": {
      "needs_background": "light"
     },
     "output_type": "display_data"
    }
   ],
   "source": [
    "#Training\n",
    "accuracy = list()\n",
    "avg_acc=0\n",
    "n=0\n",
    "for i in range(501,1000):\n",
    "    inputs = []\n",
    "    inputs.append(g[i])\n",
    "    inputs.append(l[i])\n",
    "    inputs.append(t[i])\n",
    "    inputs.append(race[i])\n",
    "    neuron.load_input(inputs)\n",
    "    target=m[i]\n",
    "    error = target - neuron.prediction()\n",
    "    error_percentage = np.fabs(error)/target*100\n",
    "    accuracy.append(error_percentage)\n",
    "    if error_percentage < 10 and error_percentage>0:\n",
    "        n+=1\n",
    "    avg_acc+=error_percentage\n",
    "avg_acc/=len(accuracy)\n",
    "plt.axhline(avg_acc,color='r')\n",
    "plt.plot(accuracy)\n",
    "print(\"Average Error: \", avg_acc, \"%\")\n",
    "print(\"Percentage of Predictions with 90% accuracy and above: \",n/500*100,\"%\")\n",
    "plt.ylabel('Error (%)')\n",
    "plt.axhline(10,color='g')"
   ]
  },
  {
   "cell_type": "code",
   "execution_count": 105,
   "metadata": {},
   "outputs": [
    {
     "name": "stdout",
     "output_type": "stream",
     "text": [
      "88.06074705754696 68\n",
      "70.49890138596035\n"
     ]
    }
   ],
   "source": [
    "i=727\n",
    "inputs = []\n",
    "inputs.append(g[i]) \n",
    "inputs.append(l[i])\n",
    "inputs.append(t[i])\n",
    "inputs.append(race[i])\n",
    "neuron.load_input(inputs)\n",
    "target=m[i]\n",
    "print(neuron.prediction(),target)\n",
    "print(100 - (np.fabs(neuron.prediction()- target)/target*100))"
   ]
  },
  {
   "cell_type": "code",
   "execution_count": null,
   "metadata": {},
   "outputs": [],
   "source": []
  }
 ],
 "metadata": {
  "kernelspec": {
   "display_name": "Python 3",
   "language": "python",
   "name": "python3"
  },
  "language_info": {
   "codemirror_mode": {
    "name": "ipython",
    "version": 3
   },
   "file_extension": ".py",
   "mimetype": "text/x-python",
   "name": "python",
   "nbconvert_exporter": "python",
   "pygments_lexer": "ipython3",
   "version": "3.7.0"
  }
 },
 "nbformat": 4,
 "nbformat_minor": 2
}
